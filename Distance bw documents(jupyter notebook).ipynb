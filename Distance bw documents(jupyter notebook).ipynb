{
 "cells": [
  {
   "cell_type": "code",
   "execution_count": 39,
   "metadata": {},
   "outputs": [],
   "source": [
    "import math\n",
    "import sys\n",
    "\n",
    "def read_file(filename):\n",
    "    try:\n",
    "        f = open(filename, 'r')\n",
    "        return f.readlines()\n",
    "    except IOError:\n",
    "        print(\"Error opening or reading input file: \", filename)\n",
    "    \n",
    "        sys.exit()\n",
    "    "
   ]
  },
  {
   "cell_type": "code",
   "execution_count": 40,
   "metadata": {},
   "outputs": [
    {
     "data": {
      "text/plain": [
       "['hello_testing hello_testing hello_testing hello_testing hello_testing hello_testing hello_testing hello_testing hello_testing hello_testing hello_testing hello_testing hello_testing hello_testing ']"
      ]
     },
     "execution_count": 40,
     "metadata": {},
     "output_type": "execute_result"
    }
   ],
   "source": [
    "read_file(\"fn.txt\")"
   ]
  },
  {
   "cell_type": "code",
   "execution_count": 41,
   "metadata": {},
   "outputs": [],
   "source": [
    "def get_words_from_line_list(L):\n",
    "    word_list = []\n",
    "    for line in L:\n",
    "        words_in_line = get_words_from_string(line)\n",
    "        word_list = word_list + words_in_line\n",
    "    return word_list\n",
    "\n",
    "def get_words_from_string(line):\n",
    "    word_list = []          # accumulates words in line\n",
    "    character_list = []     # accumulates characters in word\n",
    "    for c in line:\n",
    "        if c.isalnum():\n",
    "            character_list.append(c)\n",
    "        elif len(character_list)>0:\n",
    "            word = \"\".join(character_list)\n",
    "            word = word.lower()\n",
    "            word_list.append(word)\n",
    "            character_list = []\n",
    "    if len(character_list)>0:\n",
    "        word = \"\".join(character_list)\n",
    "        word = word.lower()\n",
    "        word_list.append(word)\n",
    "    return word_list"
   ]
  },
  {
   "cell_type": "code",
   "execution_count": 42,
   "metadata": {},
   "outputs": [],
   "source": [
    "def insertion_sort(A):\n",
    "    for j in range(len(A)):\n",
    "        key = A[j]\n",
    "        # insert A[j] into sorted sequence A[0..j-1]\n",
    "        i = j-1\n",
    "        while i>-1 and A[i]>key:\n",
    "            A[i+1] = A[i]\n",
    "            i = i-1\n",
    "        A[i+1] = key\n",
    "    return A"
   ]
  },
  {
   "cell_type": "code",
   "execution_count": 43,
   "metadata": {},
   "outputs": [],
   "source": [
    "def word_frequencies_for_file(filename):\n",
    "    line_list = read_file(filename)\n",
    "    word_list = get_words_from_line_list(line_list)\n",
    "    freq_mapping = count_frequency(word_list)\n",
    "    insertion_sort(freq_mapping)\n",
    "\n",
    "    print(\"File\",filename,\":\")\n",
    "    print(len(line_list),\"lines,\")\n",
    "    print(len(word_list),\"words,\")\n",
    "    print(len(freq_mapping),\"distinct words\")\n",
    "\n",
    "    return freq_mapping"
   ]
  },
  {
   "cell_type": "code",
   "execution_count": 48,
   "metadata": {},
   "outputs": [],
   "source": [
    "def count_frequency(word_list):\n",
    "    L = []\n",
    "    for new_word in word_list:\n",
    "        for entry in L:\n",
    "            if new_word == entry[0]:\n",
    "                entry[1] = entry[1] + 1\n",
    "                break\n",
    "        else:\n",
    "            L.append([new_word,1])\n",
    "    return L"
   ]
  },
  {
   "cell_type": "raw",
   "metadata": {},
   "source": [
    "word_frequencies_for_file(\"fn.txt\")"
   ]
  },
  {
   "cell_type": "code",
   "execution_count": 44,
   "metadata": {},
   "outputs": [],
   "source": [
    "def inner_product(L1,L2):\n",
    "    sum = 0.0\n",
    "    for word1, count1 in L1:\n",
    "        for word2, count2 in L2:\n",
    "            if word1 == word2:\n",
    "                sum += count1 * count2\n",
    "    return sum"
   ]
  },
  {
   "cell_type": "code",
   "execution_count": 49,
   "metadata": {},
   "outputs": [
    {
     "name": "stdout",
     "output_type": "stream",
     "text": [
      "File fn.txt :\n",
      "1 lines,\n",
      "28 words,\n",
      "2 distinct words\n",
      "File fn1.txt :\n",
      "1 lines,\n",
      "28 words,\n",
      "2 distinct words\n",
      "The distance between the documents is: 0.000000 (radians)\n",
      "         1523 function calls in 0.016 seconds\n",
      "\n",
      "   Ordered by: standard name\n",
      "\n",
      "   ncalls  tottime  percall  cumtime  percall filename:lineno(function)\n",
      "        2    0.000    0.000    0.000    0.000 :0(_getdefaultlocale)\n",
      "        1    0.000    0.000    0.000    0.000 :0(acos)\n",
      "       39    0.000    0.000    0.000    0.000 :0(acquire)\n",
      "      435    0.000    0.000    0.000    0.000 :0(append)\n",
      "        6    0.000    0.000    0.000    0.000 :0(charmap_decode)\n",
      "        1    0.000    0.000    0.016    0.016 :0(exec)\n",
      "       38    0.000    0.000    0.000    0.000 :0(getpid)\n",
      "      392    0.000    0.000    0.000    0.000 :0(isalnum)\n",
      "       38    0.000    0.000    0.000    0.000 :0(isinstance)\n",
      "       56    0.000    0.000    0.000    0.000 :0(join)\n",
      "       67    0.000    0.000    0.000    0.000 :0(len)\n",
      "       56    0.000    0.000    0.000    0.000 :0(lower)\n",
      "        2    0.000    0.000    0.000    0.000 :0(open)\n",
      "        9    0.000    0.000    0.000    0.000 :0(print)\n",
      "        2    0.000    0.000    0.000    0.000 :0(readlines)\n",
      "        1    0.000    0.000    0.000    0.000 :0(setprofile)\n",
      "        1    0.000    0.000    0.000    0.000 :0(sqrt)\n",
      "        2    0.000    0.000    0.000    0.000 <ipython-input-39-fdbed54b208e>:4(read_file)\n",
      "        2    0.000    0.000    0.016    0.008 <ipython-input-41-c782af686458>:1(get_words_from_line_list)\n",
      "        2    0.016    0.008    0.016    0.008 <ipython-input-41-c782af686458>:8(get_words_from_string)\n",
      "        2    0.000    0.000    0.000    0.000 <ipython-input-42-4a8583b4b153>:1(insertion_sort)\n",
      "        2    0.000    0.000    0.016    0.008 <ipython-input-43-9816bfecd082>:1(word_frequencies_for_file)\n",
      "        3    0.000    0.000    0.000    0.000 <ipython-input-44-a563c3395963>:1(inner_product)\n",
      "        2    0.000    0.000    0.000    0.000 <ipython-input-48-7e0422c14059>:1(count_frequency)\n",
      "        1    0.000    0.000    0.000    0.000 <ipython-input-49-aaebbeb5691b>:1(vector_angle)\n",
      "        1    0.000    0.000    0.016    0.016 <ipython-input-49-aaebbeb5691b>:6(main)\n",
      "        1    0.000    0.000    0.016    0.016 <string>:1(<module>)\n",
      "        2    0.000    0.000    0.000    0.000 _bootlocale.py:11(getpreferredencoding)\n",
      "        2    0.000    0.000    0.000    0.000 codecs.py:260(__init__)\n",
      "        6    0.000    0.000    0.000    0.000 cp1252.py:22(decode)\n",
      "       39    0.000    0.000    0.000    0.000 iostream.py:197(schedule)\n",
      "       38    0.000    0.000    0.000    0.000 iostream.py:309(_is_master_process)\n",
      "       38    0.000    0.000    0.000    0.000 iostream.py:322(_schedule_flush)\n",
      "       38    0.000    0.000    0.000    0.000 iostream.py:384(write)\n",
      "       39    0.000    0.000    0.000    0.000 iostream.py:93(_event_pipe)\n",
      "        1    0.000    0.000    0.016    0.016 profile:0(main())\n",
      "        0    0.000             0.000          profile:0(profiler)\n",
      "       39    0.000    0.000    0.000    0.000 socket.py:342(send)\n",
      "       39    0.000    0.000    0.000    0.000 threading.py:1050(_wait_for_tstate_lock)\n",
      "       39    0.000    0.000    0.000    0.000 threading.py:1092(is_alive)\n",
      "       39    0.000    0.000    0.000    0.000 threading.py:507(is_set)\n",
      "\n",
      "\n"
     ]
    }
   ],
   "source": [
    "def vector_angle(L1,L2):\n",
    "    numerator = inner_product(L1, L2)\n",
    "    denominator = math.sqrt(inner_product(L1,L2)*inner_product(L2,L2))\n",
    "    return math.acos(numerator/denominator)\n",
    "\n",
    "def main():\n",
    "    if len(sys.argv) != 3:\n",
    "         print(\"Usage: docdist1.py filename_1 filename_2\")\n",
    "    else:\n",
    "        filename_1 = \"fn.txt\"\n",
    "        filename_2 = \"fn1.txt\"\n",
    "        sorted_word_list_1 = word_frequencies_for_file(filename_1)\n",
    "        sorted_word_list_2 = word_frequencies_for_file(filename_2)\n",
    "        distance = vector_angle(sorted_word_list_1,sorted_word_list_2)\n",
    "        print(\"The distance between the documents is: %0.6f (radians)\"%distance)\n",
    "if __name__==\"__main__\":\n",
    "    import profile\n",
    "    profile.run(\"main()\")"
   ]
  },
  {
   "cell_type": "code",
   "execution_count": null,
   "metadata": {},
   "outputs": [],
   "source": []
  }
 ],
 "metadata": {
  "kernelspec": {
   "display_name": "PyCharm (Python)",
   "language": "python",
   "name": "pycharm-57a1881a"
  },
  "language_info": {
   "codemirror_mode": {
    "name": "ipython",
    "version": 3
   },
   "file_extension": ".py",
   "mimetype": "text/x-python",
   "name": "python",
   "nbconvert_exporter": "python",
   "pygments_lexer": "ipython3",
   "version": "3.7.6"
  }
 },
 "nbformat": 4,
 "nbformat_minor": 4
}
